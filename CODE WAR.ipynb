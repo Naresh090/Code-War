{
 "cells": [
  {
   "cell_type": "markdown",
   "id": "3f04e485",
   "metadata": {},
   "source": [
    "# Qustion-1"
   ]
  },
  {
   "cell_type": "code",
   "execution_count": 4,
   "id": "21dbf9c2",
   "metadata": {},
   "outputs": [
    {
     "name": "stdout",
     "output_type": "stream",
     "text": [
      "Enter the number:153\n",
      "Yes\n"
     ]
    }
   ],
   "source": [
    "def armstrongNumber(n):\n",
    "    \n",
    "    digit1 = n // 100\n",
    "    digit2 = (n // 10) % 10\n",
    "    digit3 = n % 10\n",
    "    sum_of_cubes = (digit1 ** 3) + (digit2 ** 3) + (digit3 ** 3)\n",
    "    if sum_of_cubes == n:\n",
    "        return \"Yes\"\n",
    "    else:\n",
    "        return \"No\"\n",
    "n=int(input(\"Enter the number:\"))\n",
    "print(armstrongNumber(n))  \n",
    "  \n"
   ]
  },
  {
   "cell_type": "markdown",
   "id": "e09ea936",
   "metadata": {},
   "source": [
    "# QUESTION 2"
   ]
  },
  {
   "cell_type": "code",
   "execution_count": 5,
   "id": "99fe5d1c",
   "metadata": {},
   "outputs": [
    {
     "name": "stdout",
     "output_type": "stream",
     "text": [
      "[-1]\n",
      "[2, 3]\n"
     ]
    }
   ],
   "source": [
    "def duplicates(a, n):\n",
    "    result = []\n",
    "    \n",
    "    for i in range(n):\n",
    "        index = a[i] % n\n",
    "        a[index] += n\n",
    "    \n",
    "    for i in range(n):\n",
    "        if (a[i] // n) > 1:\n",
    "            result.append(i)\n",
    "    \n",
    "    if not result:\n",
    "        return [-1]\n",
    "    \n",
    "    return result\n",
    "\n",
    "print(duplicates([0, 3, 1, 2], 4))  \n",
    "print(duplicates([2, 3, 1, 2, 3], 5))  \n"
   ]
  },
  {
   "cell_type": "markdown",
   "id": "9947bdf7",
   "metadata": {},
   "source": [
    "# QUESTION-3"
   ]
  },
  {
   "cell_type": "code",
   "execution_count": 7,
   "id": "aeafdeb5",
   "metadata": {},
   "outputs": [
    {
     "name": "stdout",
     "output_type": "stream",
     "text": [
      "6 5 4 3 2 1 \n",
      "10 9 8 7 2 \n"
     ]
    }
   ],
   "source": [
    "class ListNode:\n",
    "    def __init__(self, val=0, next=None):\n",
    "        self.val = val\n",
    "        self.next = next\n",
    "\n",
    "def reverseList(head):\n",
    "    prev = None\n",
    "    current = head\n",
    "    \n",
    "    while current:\n",
    "        next_node = current.next\n",
    "        current.next = prev\n",
    "        prev = current\n",
    "        current = next_node\n",
    "    \n",
    "    return prev\n",
    "\n",
    "\n",
    "def printList(head):\n",
    "    current = head\n",
    "    while current:\n",
    "        print(current.val, end=\" \")\n",
    "        current = current.next\n",
    "    print()\n",
    "\n",
    "\n",
    "head1 = ListNode(1, ListNode(2, ListNode(3, ListNode(4, ListNode(5, ListNode(6))))))\n",
    "reversed_head1 = reverseList(head1)\n",
    "printList(reversed_head1)  \n",
    "\n",
    "head2 = ListNode(2, ListNode(7, ListNode(8, ListNode(9, ListNode(10)))))\n",
    "reversed_head2 = reverseList(head2)\n",
    "printList(reversed_head2)  \n"
   ]
  },
  {
   "cell_type": "code",
   "execution_count": null,
   "id": "e42f0521",
   "metadata": {},
   "outputs": [],
   "source": []
  }
 ],
 "metadata": {
  "kernelspec": {
   "display_name": "Python 3 (ipykernel)",
   "language": "python",
   "name": "python3"
  },
  "language_info": {
   "codemirror_mode": {
    "name": "ipython",
    "version": 3
   },
   "file_extension": ".py",
   "mimetype": "text/x-python",
   "name": "python",
   "nbconvert_exporter": "python",
   "pygments_lexer": "ipython3",
   "version": "3.10.9"
  }
 },
 "nbformat": 4,
 "nbformat_minor": 5
}
